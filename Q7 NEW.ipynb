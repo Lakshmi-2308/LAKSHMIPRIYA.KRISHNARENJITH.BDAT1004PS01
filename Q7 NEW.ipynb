{
 "cells": [
  {
   "cell_type": "code",
   "execution_count": 1,
   "id": "e3ce7ef3",
   "metadata": {},
   "outputs": [
    {
     "name": "stdout",
     "output_type": "stream",
     "text": [
      "Count AB : 13\n",
      "Count A :  15\n",
      "Count B :  1\n",
      "Count O :  15\n"
     ]
    }
   ],
   "source": [
    "def bldcount():\n",
    "    f=open('bloodtype1.txt',\"r\")\n",
    "    AB,A,B,O,S=0,0,0,0,0\n",
    "    x=f.read()\n",
    "    print(\"Count AB :\",x.count('AB'))\n",
    "    print(\"Count A : \",x.count('A')-x.count('AB'))\n",
    "    print(\"Count B : \",x.count('B')-x.count('AB'))\n",
    "    print(\"Count O : \",x.count('O'))\n",
    "    f.close()\n",
    "bldcount()"
   ]
  },
  {
   "cell_type": "code",
   "execution_count": null,
   "id": "85ecc5ab",
   "metadata": {},
   "outputs": [],
   "source": []
  }
 ],
 "metadata": {
  "kernelspec": {
   "display_name": "Python 3 (ipykernel)",
   "language": "python",
   "name": "python3"
  },
  "language_info": {
   "codemirror_mode": {
    "name": "ipython",
    "version": 3
   },
   "file_extension": ".py",
   "mimetype": "text/x-python",
   "name": "python",
   "nbconvert_exporter": "python",
   "pygments_lexer": "ipython3",
   "version": "3.9.12"
  }
 },
 "nbformat": 4,
 "nbformat_minor": 5
}
