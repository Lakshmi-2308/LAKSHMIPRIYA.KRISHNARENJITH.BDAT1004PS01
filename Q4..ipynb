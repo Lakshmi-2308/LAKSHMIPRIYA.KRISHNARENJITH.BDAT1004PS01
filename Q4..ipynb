{
 "cells": [
  {
   "cell_type": "code",
   "execution_count": 3,
   "id": "dbf3956e",
   "metadata": {},
   "outputs": [
    {
     "name": "stdout",
     "output_type": "stream",
     "text": [
      "Input the number of elements to be sorted in an array:5\n",
      "Input 5  elements in the array :\n",
      "Elemnt -  0 :\n",
      "25\n",
      "Elemnt -  1 :\n",
      "47\n",
      "Elemnt -  2 :\n",
      "42\n",
      "Elemnt -  3 :\n",
      "56\n",
      "Elemnt -  4 :\n",
      "32\n",
      "The odd numbers: [25, 47]\n",
      "The even numbers: [42, 56, 32]\n"
     ]
    }
   ],
   "source": [
    "lst = []\n",
    "n = int(input(\"Input the number of elements to be sorted in an array:\"))\n",
    "print(\"Input\",n,\" elements in the array :\")\n",
    "for i in range(0,n):\n",
    "    print(\"Elemnt - \",i,\":\")\n",
    "    ele = int(input())\n",
    "    lst.append(ele)\n",
    "odd=[]\n",
    "even=[]\n",
    "for num in lst:\n",
    "    if num%2==0:\n",
    "        even.append(num)\n",
    "    else:\n",
    "        odd.append(num)\n",
    "print(\"The even numbers:\", even)\n",
    "print(\"The odd numbers:\", odd)"
   ]
  },
  {
   "cell_type": "code",
   "execution_count": null,
   "id": "979931ae",
   "metadata": {},
   "outputs": [],
   "source": []
  }
 ],
 "metadata": {
  "kernelspec": {
   "display_name": "Python 3 (ipykernel)",
   "language": "python",
   "name": "python3"
  },
  "language_info": {
   "codemirror_mode": {
    "name": "ipython",
    "version": 3
   },
   "file_extension": ".py",
   "mimetype": "text/x-python",
   "name": "python",
   "nbconvert_exporter": "python",
   "pygments_lexer": "ipython3",
   "version": "3.9.12"
  }
 },
 "nbformat": 4,
 "nbformat_minor": 5
}
