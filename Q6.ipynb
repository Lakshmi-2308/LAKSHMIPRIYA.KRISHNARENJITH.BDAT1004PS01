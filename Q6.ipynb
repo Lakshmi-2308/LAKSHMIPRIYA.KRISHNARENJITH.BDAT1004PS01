{
 "cells": [
  {
   "cell_type": "code",
   "execution_count": 6,
   "id": "d78693d5",
   "metadata": {},
   "outputs": [
    {
     "name": "stdout",
     "output_type": "stream",
     "text": [
      "appyhay\n"
     ]
    }
   ],
   "source": [
    "def pig():\n",
    "    p=\"Happy\"\n",
    "    vowel =\"aeiou\"\n",
    "    if p[0].lower() in vowel:\n",
    "        p=p+\"way\"\n",
    "        print(p.lower())\n",
    "    else:\n",
    "        p=p[1:]+p[0]+\"ay\"\n",
    "        print(p.lower())\n",
    "pig()"
   ]
  },
  {
   "cell_type": "code",
   "execution_count": 5,
   "id": "7b3bb57d",
   "metadata": {},
   "outputs": [
    {
     "name": "stdout",
     "output_type": "stream",
     "text": [
      "enterway\n"
     ]
    }
   ],
   "source": [
    "def pig():\n",
    "    p=\"Enter\"\n",
    "    vowel =\"aeiou\"\n",
    "    if p[0].lower() in vowel:\n",
    "        p=p+\"way\"\n",
    "        print(p.lower())\n",
    "    else:\n",
    "        p=p[1:]+p[0]+\"ay\"\n",
    "pig()"
   ]
  },
  {
   "cell_type": "code",
   "execution_count": null,
   "id": "e436b79e",
   "metadata": {},
   "outputs": [],
   "source": []
  }
 ],
 "metadata": {
  "kernelspec": {
   "display_name": "Python 3 (ipykernel)",
   "language": "python",
   "name": "python3"
  },
  "language_info": {
   "codemirror_mode": {
    "name": "ipython",
    "version": 3
   },
   "file_extension": ".py",
   "mimetype": "text/x-python",
   "name": "python",
   "nbconvert_exporter": "python",
   "pygments_lexer": "ipython3",
   "version": "3.9.12"
  }
 },
 "nbformat": 4,
 "nbformat_minor": 5
}
