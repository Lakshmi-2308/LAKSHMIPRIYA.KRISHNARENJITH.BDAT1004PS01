{
 "cells": [
  {
   "cell_type": "code",
   "execution_count": 15,
   "id": "1873469d",
   "metadata": {},
   "outputs": [
    {
     "name": "stdout",
     "output_type": "stream",
     "text": [
      "<class 'int'>\n",
      "<class 'float'>\n",
      "<class 'bool'>\n",
      "<class 'str'>\n",
      "<class 'str'>\n",
      "<class 'str'>\n",
      "<class 'str'>\n",
      "<class 'float'>\n",
      "<class 'int'>\n",
      "<class 'set'>\n",
      "<class 'bool'>\n"
     ]
    }
   ],
   "source": [
    "a=5\n",
    "print(type(a))\n",
    "b=5.0\n",
    "print(type(b))\n",
    "c= 5>1\n",
    "print(type(c))\n",
    "d='5'\n",
    "print(type(d))\n",
    "e='5 * 2'\n",
    "print(type(e))\n",
    "f='5' * 2\n",
    "print(type(f))\n",
    "g='5'+'2'\n",
    "print(type(g))\n",
    "h=5/2\n",
    "print(type(h))\n",
    "i=5%2\n",
    "print(type(i))\n",
    "j={5,2,1}\n",
    "print(type(j))\n",
    "k=5==3\n",
    "print(type(k))\n",
    "\n",
    "\n",
    "\n"
   ]
  },
  {
   "cell_type": "code",
   "execution_count": null,
   "id": "0c50c3f7",
   "metadata": {},
   "outputs": [],
   "source": []
  },
  {
   "cell_type": "code",
   "execution_count": null,
   "id": "e76c2ac0",
   "metadata": {},
   "outputs": [],
   "source": []
  }
 ],
 "metadata": {
  "kernelspec": {
   "display_name": "Python 3 (ipykernel)",
   "language": "python",
   "name": "python3"
  },
  "language_info": {
   "codemirror_mode": {
    "name": "ipython",
    "version": 3
   },
   "file_extension": ".py",
   "mimetype": "text/x-python",
   "name": "python",
   "nbconvert_exporter": "python",
   "pygments_lexer": "ipython3",
   "version": "3.9.12"
  }
 },
 "nbformat": 4,
 "nbformat_minor": 5
}
