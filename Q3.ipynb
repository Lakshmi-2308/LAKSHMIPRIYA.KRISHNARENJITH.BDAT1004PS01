{
 "cells": [
  {
   "cell_type": "code",
   "execution_count": 1,
   "id": "0b46a927",
   "metadata": {},
   "outputs": [
    {
     "name": "stdout",
     "output_type": "stream",
     "text": [
      "Enter the first side2\n",
      "Enter the second side2\n",
      "Enter the third side2\n",
      "The area of triangle is:1.7320508075688772\n"
     ]
    }
   ],
   "source": [
    "def triangleArea(a,b,c):\n",
    "    perimeter=a+b+c\n",
    "    s=perimeter/2\n",
    "    area=(s*(s-a)*(s-b)*(s-c))**0.5\n",
    "    return area\n",
    "side1=float(input(\"Enter the first side\"))\n",
    "side2=float(input(\"Enter the second side\"))\n",
    "side3=float(input(\"Enter the third side\"))\n",
    "area=triangleArea(side1,side2,side3)\n",
    "print(\"The area of triangle is:\"+str(area))"
   ]
  },
  {
   "cell_type": "code",
   "execution_count": null,
   "id": "6105b215",
   "metadata": {},
   "outputs": [],
   "source": []
  }
 ],
 "metadata": {
  "kernelspec": {
   "display_name": "Python 3 (ipykernel)",
   "language": "python",
   "name": "python3"
  },
  "language_info": {
   "codemirror_mode": {
    "name": "ipython",
    "version": 3
   },
   "file_extension": ".py",
   "mimetype": "text/x-python",
   "name": "python",
   "nbconvert_exporter": "python",
   "pygments_lexer": "ipython3",
   "version": "3.9.12"
  }
 },
 "nbformat": 4,
 "nbformat_minor": 5
}
