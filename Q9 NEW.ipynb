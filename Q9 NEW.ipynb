{
 "cells": [
  {
   "cell_type": "code",
   "execution_count": 1,
   "id": "c0dc61d9",
   "metadata": {},
   "outputs": [
    {
     "name": "stdout",
     "output_type": "stream",
     "text": [
      "NameError: x is not defined.\n"
     ]
    }
   ],
   "source": [
    "try:\n",
    "  6 + 'a'\n",
    "except TypeError:\n",
    "     print(\"NameError: x is not defined.\")"
   ]
  },
  {
   "cell_type": "code",
   "execution_count": 2,
   "id": "9ca48f84",
   "metadata": {},
   "outputs": [
    {
     "name": "stdout",
     "output_type": "stream",
     "text": [
      "IndexError\n"
     ]
    }
   ],
   "source": [
    "try:\n",
    "    a=[10]\n",
    "    print(a[11])\n",
    "except IndexError:\n",
    "     print(\"IndexError\")"
   ]
  },
  {
   "cell_type": "code",
   "execution_count": 3,
   "id": "e3530884",
   "metadata": {},
   "outputs": [
    {
     "name": "stdout",
     "output_type": "stream",
     "text": [
      "ValueError resolved\n"
     ]
    }
   ],
   "source": [
    "import math\n",
    "try:\n",
    "    math.sqrt(-1.0)\n",
    "except ValueError:\n",
    "    print(\"ValueError resolved\")"
   ]
  },
  {
   "cell_type": "code",
   "execution_count": 4,
   "id": "41be5127",
   "metadata": {},
   "outputs": [
    {
     "name": "stdout",
     "output_type": "stream",
     "text": [
      "Variable x is not defined\n"
     ]
    }
   ],
   "source": [
    "try:\n",
    "  print(x)\n",
    "except NameError:\n",
    "  print(\"Variable x is not defined\")\n",
    "except:\n",
    "  print(\"Something else went wrong\")"
   ]
  },
  {
   "cell_type": "code",
   "execution_count": null,
   "id": "b71f3925",
   "metadata": {},
   "outputs": [],
   "source": []
  }
 ],
 "metadata": {
  "kernelspec": {
   "display_name": "Python 3 (ipykernel)",
   "language": "python",
   "name": "python3"
  },
  "language_info": {
   "codemirror_mode": {
    "name": "ipython",
    "version": 3
   },
   "file_extension": ".py",
   "mimetype": "text/x-python",
   "name": "python",
   "nbconvert_exporter": "python",
   "pygments_lexer": "ipython3",
   "version": "3.9.12"
  }
 },
 "nbformat": 4,
 "nbformat_minor": 5
}
