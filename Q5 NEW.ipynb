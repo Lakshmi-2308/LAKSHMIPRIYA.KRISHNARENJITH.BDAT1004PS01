{
 "cells": [
  {
   "cell_type": "code",
   "execution_count": 1,
   "id": "63c69d33",
   "metadata": {},
   "outputs": [
    {
     "name": "stdout",
     "output_type": "stream",
     "text": [
      "True\n"
     ]
    }
   ],
   "source": [
    "def inside(x,y,x1,y1,x2,y2):\n",
    "    if (x > x1 and y > y1 and x < x2 and y < y2):\n",
    "        return True\n",
    "    else:\n",
    "        return False\n",
    "x,y,x1,y1,x2,y2 = (1,1,0,0,2,3)\n",
    "print(inside(x,y,x1,y1,x2,y2))"
   ]
  },
  {
   "cell_type": "code",
   "execution_count": 2,
   "id": "fed76354",
   "metadata": {},
   "outputs": [
    {
     "name": "stdout",
     "output_type": "stream",
     "text": [
      "False\n"
     ]
    }
   ],
   "source": [
    "def inside(x,y,x1,y1,x2,y2):\n",
    "    if (x > x1 and y > y1 and x < x2 and y < y2):\n",
    "        return True\n",
    "    else:\n",
    "        return False\n",
    "x,y,x1,y1,x2,y2 = (-1,-1,0,0,2,3)\n",
    "print(inside(x,y,x1,y1,x2,y2))\n",
    "    "
   ]
  },
  {
   "cell_type": "code",
   "execution_count": 3,
   "id": "c4d079c1",
   "metadata": {},
   "outputs": [
    {
     "name": "stdout",
     "output_type": "stream",
     "text": [
      "False\n"
     ]
    }
   ],
   "source": [
    "def inside(x,y,x1,y1,x2,y2):\n",
    "    if (x > x1 and y > y1 and x < x2 and y < y2):\n",
    "        return True\n",
    "    else:\n",
    "        return False\n",
    "x,y,x1,y1,x2,y2 = (1,1,0.3,0.5,1.1,0.7)\n",
    "print(inside(x,y,x1,y1,x2,y2))\n",
    "    "
   ]
  },
  {
   "cell_type": "code",
   "execution_count": 4,
   "id": "e4e7021e",
   "metadata": {},
   "outputs": [
    {
     "name": "stdout",
     "output_type": "stream",
     "text": [
      "True\n"
     ]
    }
   ],
   "source": [
    "def inside(x,y,x1,y1,x2,y2):\n",
    "    if (x > x1 and y > y1 and x < x2 and y < y2):\n",
    "        return True\n",
    "    else:\n",
    "        return False\n",
    "x,y,x1,y1,x2,y2 = (1,1,0.5,0.2,1.1,2)\n",
    "print(inside(x,y,x1,y1,x2,y2))\n",
    "    "
   ]
  },
  {
   "cell_type": "code",
   "execution_count": null,
   "id": "2e156659",
   "metadata": {},
   "outputs": [],
   "source": []
  }
 ],
 "metadata": {
  "kernelspec": {
   "display_name": "Python 3 (ipykernel)",
   "language": "python",
   "name": "python3"
  },
  "language_info": {
   "codemirror_mode": {
    "name": "ipython",
    "version": 3
   },
   "file_extension": ".py",
   "mimetype": "text/x-python",
   "name": "python",
   "nbconvert_exporter": "python",
   "pygments_lexer": "ipython3",
   "version": "3.9.12"
  }
 },
 "nbformat": 4,
 "nbformat_minor": 5
}
