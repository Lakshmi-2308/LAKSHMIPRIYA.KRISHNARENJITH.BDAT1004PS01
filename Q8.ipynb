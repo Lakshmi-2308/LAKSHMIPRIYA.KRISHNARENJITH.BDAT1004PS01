{
 "cells": [
  {
   "cell_type": "code",
   "execution_count": 1,
   "id": "34ffb03d",
   "metadata": {},
   "outputs": [
    {
     "name": "stdout",
     "output_type": "stream",
     "text": [
      "{'AUD': {'value': '1.0345157', 'name': 'Australian'}, 'CHF': {'value': '1.0237414', 'name': 'Swiss'}, 'CNY': {'value': '0.1550176', 'name': 'Chinese'}, 'DKK': {'value': '0.1651442', 'name': 'Danish'}, 'EUR': {'value': '1.2296544', 'name': 'Euro'}, 'GBP': {'value': '1.5550989', 'name': 'British'}, 'HKD': {'value': '0.1270207', 'name': 'Hong'}, 'INR': {'value': '0.0177643', 'name': 'Indian'}, 'JPY': {'value': '0.01241401', 'name': 'Japanese'}, 'MXN': {'value': '0.0751848', 'name': 'Mexican'}, 'MYR': {'value': '0.3145411', 'name': 'Malaysian'}, 'NOK': {'value': '0.1677063', 'name': 'Norwegian'}, 'NZD': {'value': '0.8003591', 'name': 'New'}, 'PHP': {'value': '0.0233234', 'name': 'Philippine'}, 'SEK': {'value': '0.148269', 'name': 'Swedish'}, 'SGD': {'value': '0.788871', 'name': 'Singapore'}, 'THB': {'value': '0.0313789', 'name': 'Thai'}}\n"
     ]
    }
   ],
   "source": [
    "import json\n",
    "filename = 'currencies.txt'\n",
    "dict1 = {}\n",
    "fields =['id','value','name']\n",
    "l = 1\n",
    "with open(filename) as fh:\n",
    "    for line in fh:\n",
    "        description = list( line.strip().split(None, 3))\n",
    "        #print(description)\n",
    "        sno =str(description[0])\n",
    "        i = 1\n",
    "        dict2 = {}\n",
    "        while i<len(fields):\n",
    "            dict2[fields[i]]= description[i]\n",
    "            i = i + 1\n",
    "        dict1[sno]= dict2\n",
    "        l = l + 1\n",
    "print(dict1)"
   ]
  },
  {
   "cell_type": "code",
   "execution_count": null,
   "id": "4ac9004d",
   "metadata": {},
   "outputs": [],
   "source": []
  }
 ],
 "metadata": {
  "kernelspec": {
   "display_name": "Python 3 (ipykernel)",
   "language": "python",
   "name": "python3"
  },
  "language_info": {
   "codemirror_mode": {
    "name": "ipython",
    "version": 3
   },
   "file_extension": ".py",
   "mimetype": "text/x-python",
   "name": "python",
   "nbconvert_exporter": "python",
   "pygments_lexer": "ipython3",
   "version": "3.9.12"
  }
 },
 "nbformat": 4,
 "nbformat_minor": 5
}
